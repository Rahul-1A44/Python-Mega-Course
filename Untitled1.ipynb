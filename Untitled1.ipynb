{
 "cells": [
  {
   "cell_type": "code",
   "execution_count": 1,
   "id": "ecf35058",
   "metadata": {},
   "outputs": [
    {
     "name": "stdout",
     "output_type": "stream",
     "text": [
      "Enter your Name : Rahul Kumar Gupta\n"
     ]
    }
   ],
   "source": [
    "rahul = input ('Enter your Name : ')"
   ]
  },
  {
   "cell_type": "code",
   "execution_count": 2,
   "id": "e79f8373",
   "metadata": {},
   "outputs": [
    {
     "name": "stdout",
     "output_type": "stream",
     "text": [
      " Enter your age: 19\n"
     ]
    }
   ],
   "source": [
    "age = input (' Enter your age: ')"
   ]
  },
  {
   "cell_type": "code",
   "execution_count": 22,
   "id": "cd739154",
   "metadata": {},
   "outputs": [],
   "source": [
    "a=11"
   ]
  },
  {
   "cell_type": "code",
   "execution_count": 23,
   "id": "765e6335",
   "metadata": {},
   "outputs": [],
   "source": [
    "b=8"
   ]
  },
  {
   "cell_type": "code",
   "execution_count": 24,
   "id": "3dbba935",
   "metadata": {},
   "outputs": [],
   "source": [
    "sum=a+b"
   ]
  },
  {
   "cell_type": "code",
   "execution_count": 25,
   "id": "ad0006ca",
   "metadata": {},
   "outputs": [
    {
     "name": "stdout",
     "output_type": "stream",
     "text": [
      "19\n"
     ]
    }
   ],
   "source": [
    "print(sum)"
   ]
  },
  {
   "cell_type": "code",
   "execution_count": 26,
   "id": "fd097292",
   "metadata": {},
   "outputs": [],
   "source": [
    "divide=a/b"
   ]
  },
  {
   "cell_type": "code",
   "execution_count": 27,
   "id": "8f9fbda7",
   "metadata": {},
   "outputs": [
    {
     "name": "stdout",
     "output_type": "stream",
     "text": [
      "1.375\n"
     ]
    }
   ],
   "source": [
    "print(divide)"
   ]
  },
  {
   "cell_type": "code",
   "execution_count": 28,
   "id": "fa97acd6",
   "metadata": {},
   "outputs": [
    {
     "data": {
      "text/plain": [
       "1"
      ]
     },
     "execution_count": 28,
     "metadata": {},
     "output_type": "execute_result"
    }
   ],
   "source": [
    "a//b"
   ]
  },
  {
   "cell_type": "code",
   "execution_count": 29,
   "id": "6c82f141",
   "metadata": {},
   "outputs": [
    {
     "data": {
      "text/plain": [
       "0.375"
      ]
     },
     "execution_count": 29,
     "metadata": {},
     "output_type": "execute_result"
    }
   ],
   "source": [
    "a/b-a//b"
   ]
  },
  {
   "cell_type": "code",
   "execution_count": null,
   "id": "adab2aac",
   "metadata": {},
   "outputs": [],
   "source": []
  }
 ],
 "metadata": {
  "kernelspec": {
   "display_name": "Python 3 (ipykernel)",
   "language": "python",
   "name": "python3"
  },
  "language_info": {
   "codemirror_mode": {
    "name": "ipython",
    "version": 3
   },
   "file_extension": ".py",
   "mimetype": "text/x-python",
   "name": "python",
   "nbconvert_exporter": "python",
   "pygments_lexer": "ipython3",
   "version": "3.11.1"
  }
 },
 "nbformat": 4,
 "nbformat_minor": 5
}
