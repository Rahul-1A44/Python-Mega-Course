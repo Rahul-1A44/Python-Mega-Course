{
 "cells": [
  {
   "cell_type": "markdown",
   "id": "b1df45ad",
   "metadata": {},
   "source": [
    "# List"
   ]
  },
  {
   "cell_type": "code",
   "execution_count": 54,
   "id": "ff0c6ac2",
   "metadata": {},
   "outputs": [],
   "source": [
    "lst=[1,2,3,'hi',7,'mr',5,'rahul']"
   ]
  },
  {
   "cell_type": "code",
   "execution_count": 55,
   "id": "81794f01",
   "metadata": {},
   "outputs": [
    {
     "data": {
      "text/plain": [
       "list"
      ]
     },
     "execution_count": 55,
     "metadata": {},
     "output_type": "execute_result"
    }
   ],
   "source": [
    "type(lst)"
   ]
  },
  {
   "cell_type": "code",
   "execution_count": 56,
   "id": "7f702e35",
   "metadata": {},
   "outputs": [
    {
     "data": {
      "text/plain": [
       "3"
      ]
     },
     "execution_count": 56,
     "metadata": {},
     "output_type": "execute_result"
    }
   ],
   "source": [
    "lst[2]"
   ]
  },
  {
   "cell_type": "code",
   "execution_count": 20,
   "id": "e9a71a15",
   "metadata": {},
   "outputs": [
    {
     "data": {
      "text/plain": [
       "'mr'"
      ]
     },
     "execution_count": 20,
     "metadata": {},
     "output_type": "execute_result"
    }
   ],
   "source": [
    "lst[5]"
   ]
  },
  {
   "cell_type": "code",
   "execution_count": 21,
   "id": "2f76be90",
   "metadata": {},
   "outputs": [
    {
     "data": {
      "text/plain": [
       "int"
      ]
     },
     "execution_count": 21,
     "metadata": {},
     "output_type": "execute_result"
    }
   ],
   "source": [
    "type(lst[2])"
   ]
  },
  {
   "cell_type": "code",
   "execution_count": 24,
   "id": "9c7e1d7c",
   "metadata": {},
   "outputs": [
    {
     "data": {
      "text/plain": [
       "'hi mr rahul'"
      ]
     },
     "execution_count": 24,
     "metadata": {},
     "output_type": "execute_result"
    }
   ],
   "source": [
    "lst[3]+' '+lst[5]+' '+lst[7]"
   ]
  },
  {
   "cell_type": "code",
   "execution_count": 16,
   "id": "494a5a33",
   "metadata": {},
   "outputs": [
    {
     "data": {
      "text/plain": [
       "7"
      ]
     },
     "execution_count": 16,
     "metadata": {},
     "output_type": "execute_result"
    }
   ],
   "source": [
    "len(lst)"
   ]
  },
  {
   "cell_type": "code",
   "execution_count": 25,
   "id": "e67aa269",
   "metadata": {},
   "outputs": [
    {
     "data": {
      "text/plain": [
       "'hi'"
      ]
     },
     "execution_count": 25,
     "metadata": {},
     "output_type": "execute_result"
    }
   ],
   "source": [
    "lst[-5]"
   ]
  },
  {
   "cell_type": "code",
   "execution_count": 26,
   "id": "6951c54e",
   "metadata": {},
   "outputs": [
    {
     "data": {
      "text/plain": [
       "['hi', 7, 'mr', 5, 'rahul']"
      ]
     },
     "execution_count": 26,
     "metadata": {},
     "output_type": "execute_result"
    }
   ],
   "source": [
    "lst[3:8]"
   ]
  },
  {
   "cell_type": "code",
   "execution_count": 28,
   "id": "9e92a6f5",
   "metadata": {},
   "outputs": [
    {
     "data": {
      "text/plain": [
       "[]"
      ]
     },
     "execution_count": 28,
     "metadata": {},
     "output_type": "execute_result"
    }
   ],
   "source": [
    "lst[-3:-5]"
   ]
  },
  {
   "cell_type": "code",
   "execution_count": 37,
   "id": "d55f4ea9",
   "metadata": {},
   "outputs": [],
   "source": [
    "x=[]"
   ]
  },
  {
   "cell_type": "code",
   "execution_count": 38,
   "id": "b915262f",
   "metadata": {},
   "outputs": [],
   "source": [
    "x.append('rahul')"
   ]
  },
  {
   "cell_type": "code",
   "execution_count": 39,
   "id": "ccf8289b",
   "metadata": {},
   "outputs": [
    {
     "data": {
      "text/plain": [
       "['rahul']"
      ]
     },
     "execution_count": 39,
     "metadata": {},
     "output_type": "execute_result"
    }
   ],
   "source": [
    "x"
   ]
  },
  {
   "cell_type": "code",
   "execution_count": 40,
   "id": "82bfdd41",
   "metadata": {},
   "outputs": [],
   "source": [
    "x.append('kumar')"
   ]
  },
  {
   "cell_type": "code",
   "execution_count": 41,
   "id": "00de278d",
   "metadata": {},
   "outputs": [
    {
     "data": {
      "text/plain": [
       "['rahul', 'kumar']"
      ]
     },
     "execution_count": 41,
     "metadata": {},
     "output_type": "execute_result"
    }
   ],
   "source": [
    "x"
   ]
  },
  {
   "cell_type": "code",
   "execution_count": 42,
   "id": "22392374",
   "metadata": {},
   "outputs": [],
   "source": [
    "x.append('gupta')"
   ]
  },
  {
   "cell_type": "code",
   "execution_count": 43,
   "id": "54684dc7",
   "metadata": {},
   "outputs": [
    {
     "data": {
      "text/plain": [
       "['rahul', 'kumar', 'gupta']"
      ]
     },
     "execution_count": 43,
     "metadata": {},
     "output_type": "execute_result"
    }
   ],
   "source": [
    "x"
   ]
  },
  {
   "cell_type": "code",
   "execution_count": 44,
   "id": "41ca3d79",
   "metadata": {},
   "outputs": [],
   "source": [
    "x.insert(0,'Mr')"
   ]
  },
  {
   "cell_type": "code",
   "execution_count": 45,
   "id": "23051025",
   "metadata": {},
   "outputs": [
    {
     "data": {
      "text/plain": [
       "['Mr', 'rahul', 'kumar', 'gupta']"
      ]
     },
     "execution_count": 45,
     "metadata": {},
     "output_type": "execute_result"
    }
   ],
   "source": [
    "x"
   ]
  },
  {
   "cell_type": "code",
   "execution_count": 51,
   "id": "d732b0a5",
   "metadata": {},
   "outputs": [
    {
     "data": {
      "text/plain": [
       "['Mr', 'rahul', 'kumar', 'gupta']"
      ]
     },
     "execution_count": 51,
     "metadata": {},
     "output_type": "execute_result"
    }
   ],
   "source": [
    "x"
   ]
  },
  {
   "cell_type": "code",
   "execution_count": 52,
   "id": "6d2d2362",
   "metadata": {},
   "outputs": [
    {
     "data": {
      "text/plain": [
       "[]"
      ]
     },
     "execution_count": 52,
     "metadata": {},
     "output_type": "execute_result"
    }
   ],
   "source": [
    "x[4:7]"
   ]
  },
  {
   "cell_type": "code",
   "execution_count": 53,
   "id": "ce425f31",
   "metadata": {},
   "outputs": [],
   "source": [
    "x[4:7]=['purba','sarmha']"
   ]
  },
  {
   "cell_type": "code",
   "execution_count": 54,
   "id": "167ae658",
   "metadata": {},
   "outputs": [
    {
     "data": {
      "text/plain": [
       "['Mr', 'rahul', 'kumar', 'gupta', 'purba', 'sarmha']"
      ]
     },
     "execution_count": 54,
     "metadata": {},
     "output_type": "execute_result"
    }
   ],
   "source": [
    "x"
   ]
  },
  {
   "cell_type": "code",
   "execution_count": 58,
   "id": "344802f5",
   "metadata": {},
   "outputs": [
    {
     "data": {
      "text/plain": [
       "'sarmha'"
      ]
     },
     "execution_count": 58,
     "metadata": {},
     "output_type": "execute_result"
    }
   ],
   "source": [
    "x.pop()"
   ]
  },
  {
   "cell_type": "code",
   "execution_count": 59,
   "id": "a3d0662d",
   "metadata": {},
   "outputs": [
    {
     "data": {
      "text/plain": [
       "['rahul', 'kumar', 'gupta', 'purba']"
      ]
     },
     "execution_count": 59,
     "metadata": {},
     "output_type": "execute_result"
    }
   ],
   "source": [
    "x"
   ]
  },
  {
   "cell_type": "code",
   "execution_count": 61,
   "id": "55eb11ed",
   "metadata": {},
   "outputs": [
    {
     "data": {
      "text/plain": [
       "True"
      ]
     },
     "execution_count": 61,
     "metadata": {},
     "output_type": "execute_result"
    }
   ],
   "source": [
    "'rahul' in x"
   ]
  },
  {
   "cell_type": "code",
   "execution_count": 62,
   "id": "e4f8fc23",
   "metadata": {},
   "outputs": [
    {
     "data": {
      "text/plain": [
       "True"
      ]
     },
     "execution_count": 62,
     "metadata": {},
     "output_type": "execute_result"
    }
   ],
   "source": [
    "'sah' not in x"
   ]
  },
  {
   "cell_type": "code",
   "execution_count": 63,
   "id": "5e00d940",
   "metadata": {},
   "outputs": [],
   "source": [
    "x.remove('rahul')"
   ]
  },
  {
   "cell_type": "code",
   "execution_count": 64,
   "id": "70864de7",
   "metadata": {},
   "outputs": [
    {
     "data": {
      "text/plain": [
       "['kumar', 'gupta', 'purba']"
      ]
     },
     "execution_count": 64,
     "metadata": {},
     "output_type": "execute_result"
    }
   ],
   "source": [
    "x"
   ]
  },
  {
   "cell_type": "code",
   "execution_count": 65,
   "id": "eb4ecee0",
   "metadata": {},
   "outputs": [],
   "source": [
    "x.clear()"
   ]
  },
  {
   "cell_type": "code",
   "execution_count": 66,
   "id": "391dc665",
   "metadata": {},
   "outputs": [
    {
     "data": {
      "text/plain": [
       "[]"
      ]
     },
     "execution_count": 66,
     "metadata": {},
     "output_type": "execute_result"
    }
   ],
   "source": [
    "x"
   ]
  },
  {
   "cell_type": "markdown",
   "id": "35998a03",
   "metadata": {},
   "source": [
    "# Dictionary"
   ]
  },
  {
   "cell_type": "code",
   "execution_count": 83,
   "id": "889eb52b",
   "metadata": {},
   "outputs": [],
   "source": [
    "x={'Name' : 'Rahul kumar gupta', \n",
    "      'Roll no' : 28, \n",
    "      'College' :'Medhavi college', \n",
    "      'Semester' : 2,\n",
    "     'programme' : 'BCIS'}"
   ]
  },
  {
   "cell_type": "code",
   "execution_count": 84,
   "id": "bc49873c",
   "metadata": {},
   "outputs": [
    {
     "data": {
      "text/plain": [
       "dict_keys(['Name', 'Roll no', 'College', 'Semester', 'programme'])"
      ]
     },
     "execution_count": 84,
     "metadata": {},
     "output_type": "execute_result"
    }
   ],
   "source": [
    "x.keys()"
   ]
  },
  {
   "cell_type": "code",
   "execution_count": 85,
   "id": "2c95484d",
   "metadata": {},
   "outputs": [
    {
     "data": {
      "text/plain": [
       "{'Name': 'Rahul kumar gupta',\n",
       " 'Roll no': 28,\n",
       " 'College': 'Medhavi college',\n",
       " 'Semester': 2,\n",
       " 'programme': 'BCIS'}"
      ]
     },
     "execution_count": 85,
     "metadata": {},
     "output_type": "execute_result"
    }
   ],
   "source": [
    "x"
   ]
  },
  {
   "cell_type": "code",
   "execution_count": 86,
   "id": "246ada8e",
   "metadata": {},
   "outputs": [
    {
     "data": {
      "text/plain": [
       "'Rahul kumar gupta'"
      ]
     },
     "execution_count": 86,
     "metadata": {},
     "output_type": "execute_result"
    }
   ],
   "source": [
    "x['Name']"
   ]
  },
  {
   "cell_type": "code",
   "execution_count": 87,
   "id": "098afa5f",
   "metadata": {},
   "outputs": [
    {
     "data": {
      "text/plain": [
       "28"
      ]
     },
     "execution_count": 87,
     "metadata": {},
     "output_type": "execute_result"
    }
   ],
   "source": [
    "x['Roll no']"
   ]
  },
  {
   "cell_type": "code",
   "execution_count": 88,
   "id": "6779f1e8",
   "metadata": {},
   "outputs": [
    {
     "data": {
      "text/plain": [
       "'Medhavi college'"
      ]
     },
     "execution_count": 88,
     "metadata": {},
     "output_type": "execute_result"
    }
   ],
   "source": [
    "x['College']"
   ]
  },
  {
   "cell_type": "code",
   "execution_count": 89,
   "id": "d40b2060",
   "metadata": {},
   "outputs": [
    {
     "data": {
      "text/plain": [
       "2"
      ]
     },
     "execution_count": 89,
     "metadata": {},
     "output_type": "execute_result"
    }
   ],
   "source": [
    "x['Semester']"
   ]
  },
  {
   "cell_type": "code",
   "execution_count": 91,
   "id": "a669718a",
   "metadata": {},
   "outputs": [
    {
     "data": {
      "text/plain": [
       "'BCIS'"
      ]
     },
     "execution_count": 91,
     "metadata": {},
     "output_type": "execute_result"
    }
   ],
   "source": [
    "x['programme']"
   ]
  },
  {
   "cell_type": "code",
   "execution_count": 94,
   "id": "4667022e",
   "metadata": {},
   "outputs": [
    {
     "data": {
      "text/plain": [
       "dict_values(['Rahul kumar gupta', 28, 'Medhavi college', 2, 'BCIS'])"
      ]
     },
     "execution_count": 94,
     "metadata": {},
     "output_type": "execute_result"
    }
   ],
   "source": [
    "x.values()"
   ]
  },
  {
   "cell_type": "code",
   "execution_count": 98,
   "id": "3e22db66",
   "metadata": {},
   "outputs": [],
   "source": [
    "x['Remarks']='pass'"
   ]
  },
  {
   "cell_type": "code",
   "execution_count": 100,
   "id": "54d50b21",
   "metadata": {},
   "outputs": [
    {
     "data": {
      "text/plain": [
       "{'Name': 'Rahul kumar gupta',\n",
       " 'Roll no': 28,\n",
       " 'College': 'Medhavi college',\n",
       " 'Semester': 2,\n",
       " 'programme': 'BCIS',\n",
       " 'Remarks': 'pass'}"
      ]
     },
     "execution_count": 100,
     "metadata": {},
     "output_type": "execute_result"
    }
   ],
   "source": [
    "x"
   ]
  },
  {
   "cell_type": "code",
   "execution_count": 104,
   "id": "fec098d7",
   "metadata": {},
   "outputs": [
    {
     "data": {
      "text/plain": [
       "'pass'"
      ]
     },
     "execution_count": 104,
     "metadata": {},
     "output_type": "execute_result"
    }
   ],
   "source": [
    "x.pop('Remarks')"
   ]
  },
  {
   "cell_type": "code",
   "execution_count": 105,
   "id": "20c23af3",
   "metadata": {},
   "outputs": [
    {
     "data": {
      "text/plain": [
       "{'Name': 'Rahul kumar gupta',\n",
       " 'Roll no': 28,\n",
       " 'College': 'Medhavi college',\n",
       " 'Semester': 2,\n",
       " 'programme': 'BCIS'}"
      ]
     },
     "execution_count": 105,
     "metadata": {},
     "output_type": "execute_result"
    }
   ],
   "source": [
    "x"
   ]
  },
  {
   "cell_type": "code",
   "execution_count": 106,
   "id": "dfb635a4",
   "metadata": {},
   "outputs": [
    {
     "data": {
      "text/plain": [
       "True"
      ]
     },
     "execution_count": 106,
     "metadata": {},
     "output_type": "execute_result"
    }
   ],
   "source": [
    "'Name' in x"
   ]
  },
  {
   "cell_type": "code",
   "execution_count": 115,
   "id": "873d6901",
   "metadata": {},
   "outputs": [],
   "source": [
    "x.update({'Reg. No': '26531-86941 L'})"
   ]
  },
  {
   "cell_type": "code",
   "execution_count": 116,
   "id": "36dd0d74",
   "metadata": {},
   "outputs": [
    {
     "data": {
      "text/plain": [
       "{'Name': 'Rahul kumar gupta',\n",
       " 'Roll no': 28,\n",
       " 'College': 'Medhavi college',\n",
       " 'Semester': 2,\n",
       " 'programme': 'BCIS',\n",
       " 'Reg. No': '26531-86941 L'}"
      ]
     },
     "execution_count": 116,
     "metadata": {},
     "output_type": "execute_result"
    }
   ],
   "source": [
    "x"
   ]
  },
  {
   "cell_type": "markdown",
   "id": "2d68f340",
   "metadata": {},
   "source": [
    "# Tuples"
   ]
  },
  {
   "cell_type": "code",
   "execution_count": 120,
   "id": "267f798a",
   "metadata": {},
   "outputs": [],
   "source": [
    "x=(1,12,32,1,1,1,'hi')"
   ]
  },
  {
   "cell_type": "code",
   "execution_count": 10,
   "id": "9a53eb10",
   "metadata": {},
   "outputs": [
    {
     "data": {
      "text/plain": [
       "0"
      ]
     },
     "execution_count": 10,
     "metadata": {},
     "output_type": "execute_result"
    }
   ],
   "source": [
    "x.count(1) # it count the number of reperative element "
   ]
  },
  {
   "cell_type": "code",
   "execution_count": 11,
   "id": "bd34be58",
   "metadata": {},
   "outputs": [
    {
     "data": {
      "text/plain": [
       "'apple'"
      ]
     },
     "execution_count": 11,
     "metadata": {},
     "output_type": "execute_result"
    }
   ],
   "source": [
    "x[0]"
   ]
  },
  {
   "cell_type": "code",
   "execution_count": 12,
   "id": "76370739",
   "metadata": {},
   "outputs": [],
   "source": [
    "x=('apple','banana','grapes','apple','mango','apple')"
   ]
  },
  {
   "cell_type": "code",
   "execution_count": 13,
   "id": "cff720c0",
   "metadata": {},
   "outputs": [
    {
     "data": {
      "text/plain": [
       "('apple', 'banana', 'grapes', 'apple', 'mango', 'apple')"
      ]
     },
     "execution_count": 13,
     "metadata": {},
     "output_type": "execute_result"
    }
   ],
   "source": [
    "x"
   ]
  },
  {
   "cell_type": "code",
   "execution_count": 17,
   "id": "b347dc09",
   "metadata": {},
   "outputs": [
    {
     "data": {
      "text/plain": [
       "6"
      ]
     },
     "execution_count": 17,
     "metadata": {},
     "output_type": "execute_result"
    }
   ],
   "source": [
    "len(x) # count length"
   ]
  },
  {
   "cell_type": "code",
   "execution_count": 18,
   "id": "8212093a",
   "metadata": {},
   "outputs": [
    {
     "data": {
      "text/plain": [
       "'mango'"
      ]
     },
     "execution_count": 18,
     "metadata": {},
     "output_type": "execute_result"
    }
   ],
   "source": [
    "x[4] #indexing"
   ]
  },
  {
   "cell_type": "code",
   "execution_count": 19,
   "id": "774b8457",
   "metadata": {},
   "outputs": [
    {
     "data": {
      "text/plain": [
       "('grapes', 'apple', 'mango')"
      ]
     },
     "execution_count": 19,
     "metadata": {},
     "output_type": "execute_result"
    }
   ],
   "source": [
    "x[2:5]"
   ]
  },
  {
   "cell_type": "code",
   "execution_count": 20,
   "id": "3fc6cf89",
   "metadata": {},
   "outputs": [
    {
     "data": {
      "text/plain": [
       "3"
      ]
     },
     "execution_count": 20,
     "metadata": {},
     "output_type": "execute_result"
    }
   ],
   "source": [
    "x.count('apple') # it count the number of reperative element"
   ]
  },
  {
   "cell_type": "code",
   "execution_count": 21,
   "id": "a07b4c87",
   "metadata": {},
   "outputs": [],
   "source": [
    "y=list(x)"
   ]
  },
  {
   "cell_type": "code",
   "execution_count": 22,
   "id": "a277f1b0",
   "metadata": {},
   "outputs": [
    {
     "data": {
      "text/plain": [
       "['apple', 'banana', 'grapes', 'apple', 'mango', 'apple']"
      ]
     },
     "execution_count": 22,
     "metadata": {},
     "output_type": "execute_result"
    }
   ],
   "source": [
    "y"
   ]
  },
  {
   "cell_type": "code",
   "execution_count": 23,
   "id": "47dc49c7",
   "metadata": {},
   "outputs": [],
   "source": [
    "x=tuple(y)"
   ]
  },
  {
   "cell_type": "code",
   "execution_count": 24,
   "id": "26e0a80b",
   "metadata": {},
   "outputs": [
    {
     "data": {
      "text/plain": [
       "('apple', 'banana', 'grapes', 'apple', 'mango', 'apple')"
      ]
     },
     "execution_count": 24,
     "metadata": {},
     "output_type": "execute_result"
    }
   ],
   "source": [
    "x"
   ]
  },
  {
   "cell_type": "code",
   "execution_count": 28,
   "id": "354bd5e1",
   "metadata": {},
   "outputs": [],
   "source": [
    "y.insert(3,'oranges')"
   ]
  },
  {
   "cell_type": "code",
   "execution_count": 29,
   "id": "870223c9",
   "metadata": {},
   "outputs": [
    {
     "data": {
      "text/plain": [
       "['apple', 'oranges', 'banana', 'oranges', 'grapes', 'apple', 'mango', 'apple']"
      ]
     },
     "execution_count": 29,
     "metadata": {},
     "output_type": "execute_result"
    }
   ],
   "source": [
    "y"
   ]
  },
  {
   "cell_type": "code",
   "execution_count": 30,
   "id": "99bae559",
   "metadata": {},
   "outputs": [
    {
     "data": {
      "text/plain": [
       "tuple"
      ]
     },
     "execution_count": 30,
     "metadata": {},
     "output_type": "execute_result"
    }
   ],
   "source": [
    "type(x)"
   ]
  },
  {
   "cell_type": "code",
   "execution_count": 31,
   "id": "2dda4430",
   "metadata": {},
   "outputs": [],
   "source": [
    "z=('pinaple')"
   ]
  },
  {
   "cell_type": "code",
   "execution_count": 32,
   "id": "6c44e95e",
   "metadata": {},
   "outputs": [
    {
     "data": {
      "text/plain": [
       "str"
      ]
     },
     "execution_count": 32,
     "metadata": {},
     "output_type": "execute_result"
    }
   ],
   "source": [
    "type(z)"
   ]
  },
  {
   "cell_type": "markdown",
   "id": "4fb22540",
   "metadata": {},
   "source": [
    "# SET"
   ]
  },
  {
   "cell_type": "code",
   "execution_count": 40,
   "id": "5304b477",
   "metadata": {},
   "outputs": [],
   "source": [
    "s1={'1,2,3,4,5,6,7,8,9,0'}"
   ]
  },
  {
   "cell_type": "code",
   "execution_count": 41,
   "id": "9635a352",
   "metadata": {},
   "outputs": [
    {
     "data": {
      "text/plain": [
       "set"
      ]
     },
     "execution_count": 41,
     "metadata": {},
     "output_type": "execute_result"
    }
   ],
   "source": [
    "type(s1)"
   ]
  },
  {
   "cell_type": "code",
   "execution_count": 45,
   "id": "8d20b398",
   "metadata": {},
   "outputs": [],
   "source": [
    "s2={1,2,6,5,85,2,45,2,45,2,12,1,2,4,5,} # set doestn't allow duplication / repratation"
   ]
  },
  {
   "cell_type": "code",
   "execution_count": 46,
   "id": "35effcf3",
   "metadata": {},
   "outputs": [
    {
     "data": {
      "text/plain": [
       "{1, 2, 4, 5, 6, 12, 45, 85}"
      ]
     },
     "execution_count": 46,
     "metadata": {},
     "output_type": "execute_result"
    }
   ],
   "source": [
    "s2"
   ]
  },
  {
   "cell_type": "code",
   "execution_count": 48,
   "id": "fe2d9a57",
   "metadata": {},
   "outputs": [
    {
     "data": {
      "text/plain": [
       "8"
      ]
     },
     "execution_count": 48,
     "metadata": {},
     "output_type": "execute_result"
    }
   ],
   "source": [
    "len(s2)"
   ]
  },
  {
   "cell_type": "code",
   "execution_count": 49,
   "id": "6ab32c61",
   "metadata": {},
   "outputs": [],
   "source": [
    "s2.add('h1')"
   ]
  },
  {
   "cell_type": "code",
   "execution_count": 50,
   "id": "a145a2eb",
   "metadata": {},
   "outputs": [
    {
     "data": {
      "text/plain": [
       "{1, 12, 2, 4, 45, 5, 6, 85, 'h1'}"
      ]
     },
     "execution_count": 50,
     "metadata": {},
     "output_type": "execute_result"
    }
   ],
   "source": [
    "s2"
   ]
  },
  {
   "cell_type": "code",
   "execution_count": 53,
   "id": "4661be63",
   "metadata": {},
   "outputs": [],
   "source": [
    "s2.remove(6)"
   ]
  },
  {
   "cell_type": "code",
   "execution_count": 54,
   "id": "8cc8ead5",
   "metadata": {},
   "outputs": [
    {
     "data": {
      "text/plain": [
       "{1, 12, 2, 4, 45, 5, 85, 'h1'}"
      ]
     },
     "execution_count": 54,
     "metadata": {},
     "output_type": "execute_result"
    }
   ],
   "source": [
    "s2"
   ]
  },
  {
   "cell_type": "code",
   "execution_count": 63,
   "id": "609f593e",
   "metadata": {},
   "outputs": [
    {
     "name": "stdout",
     "output_type": "stream",
     "text": [
      "1\n",
      "2\n",
      "4\n",
      "5\n",
      "h1\n",
      "12\n",
      "45\n",
      "85\n"
     ]
    }
   ],
   "source": [
    "for i in s2: \n",
    "    print(i)"
   ]
  },
  {
   "cell_type": "code",
   "execution_count": 68,
   "id": "47574725",
   "metadata": {},
   "outputs": [],
   "source": [
    "y=list(s2) # it helps to list"
   ]
  },
  {
   "cell_type": "code",
   "execution_count": 69,
   "id": "d3961f99",
   "metadata": {},
   "outputs": [
    {
     "data": {
      "text/plain": [
       "[1, 2, 4, 5, 'h1', 12, 45, 85]"
      ]
     },
     "execution_count": 69,
     "metadata": {},
     "output_type": "execute_result"
    }
   ],
   "source": [
    "y"
   ]
  },
  {
   "cell_type": "code",
   "execution_count": 76,
   "id": "828cb0fc",
   "metadata": {},
   "outputs": [],
   "source": [
    "y[5]='rahul'"
   ]
  },
  {
   "cell_type": "code",
   "execution_count": 77,
   "id": "67b18771",
   "metadata": {},
   "outputs": [
    {
     "data": {
      "text/plain": [
       "[1, 2, 4, 5, 'h1', 'rahul', 45, 85]"
      ]
     },
     "execution_count": 77,
     "metadata": {},
     "output_type": "execute_result"
    }
   ],
   "source": [
    "y"
   ]
  },
  {
   "cell_type": "code",
   "execution_count": 78,
   "id": "5e78c28e",
   "metadata": {},
   "outputs": [],
   "source": [
    "s2=set(y)"
   ]
  },
  {
   "cell_type": "code",
   "execution_count": 79,
   "id": "bc92e1b8",
   "metadata": {},
   "outputs": [
    {
     "data": {
      "text/plain": [
       "{1, 2, 4, 45, 5, 85, 'h1', 'rahul'}"
      ]
     },
     "execution_count": 79,
     "metadata": {},
     "output_type": "execute_result"
    }
   ],
   "source": [
    "s2"
   ]
  },
  {
   "cell_type": "markdown",
   "id": "3f9a8419",
   "metadata": {},
   "source": [
    "# IF ELSE STATEMENT"
   ]
  },
  {
   "cell_type": "code",
   "execution_count": 85,
   "id": "3e85d40b",
   "metadata": {},
   "outputs": [
    {
     "name": "stdout",
     "output_type": "stream",
     "text": [
      "Enter any Number : 7\n"
     ]
    }
   ],
   "source": [
    "x=int(input('Enter any Number : '))"
   ]
  },
  {
   "cell_type": "code",
   "execution_count": 97,
   "id": "c0007595",
   "metadata": {},
   "outputs": [
    {
     "name": "stdout",
     "output_type": "stream",
     "text": [
      "Number is odd\n"
     ]
    }
   ],
   "source": [
    "if x%2==0:\n",
    "    print('Number is even') \n",
    "else:\n",
    "        print('Number is odd')"
   ]
  },
  {
   "cell_type": "code",
   "execution_count": 93,
   "id": "a42e3396",
   "metadata": {},
   "outputs": [
    {
     "name": "stdout",
     "output_type": "stream",
     "text": [
      "Number is odd\n"
     ]
    }
   ],
   "source": [
    "if x%2==0:\n",
    "     print('Number is even') \n",
    "elif  x%2==1:\n",
    "        print('Number is odd')\n",
    "else:\n",
    "           print('Enter interger')"
   ]
  },
  {
   "cell_type": "markdown",
   "id": "42457223",
   "metadata": {},
   "source": [
    "\n",
    "Exercise:\n",
    "\n",
    "Take marks as input from user\n",
    "Classify the division using following rference\n",
    "       i) Marks greater than equal to 80-Distinction \n",
    "       ii) Greater equal to 60 and less than 80- First Division\n",
    "       iii) Greater equal to 40 and less than 60- second Division\n",
    "       iv) less than 40-(Fail)\n",
    "       v) Else invalid marks"
   ]
  },
  {
   "cell_type": "code",
   "execution_count": 101,
   "id": "f65131a4",
   "metadata": {},
   "outputs": [
    {
     "name": "stdout",
     "output_type": "stream",
     "text": [
      "Enter the number81\n"
     ]
    }
   ],
   "source": [
    "m=int(input('Enter the number'))"
   ]
  },
  {
   "cell_type": "code",
   "execution_count": 104,
   "id": "a618f2ea",
   "metadata": {},
   "outputs": [
    {
     "name": "stdout",
     "output_type": "stream",
     "text": [
      "distinction\n"
     ]
    }
   ],
   "source": [
    "if m>=80:\n",
    "    print('distinction')\n",
    "elif m>=60 & m<80:\n",
    "    print('1st division')\n",
    "elif m>=40 & m<60:    \n",
    "    print('2nd division')\n",
    "elif m<40:\n",
    "    print('Fail')\n",
    "else:\n",
    "    print('invalid marks')"
   ]
  },
  {
   "cell_type": "code",
   "execution_count": null,
   "id": "b5c217d3",
   "metadata": {},
   "outputs": [],
   "source": []
  }
 ],
 "metadata": {
  "kernelspec": {
   "display_name": "Python 3 (ipykernel)",
   "language": "python",
   "name": "python3"
  },
  "language_info": {
   "codemirror_mode": {
    "name": "ipython",
    "version": 3
   },
   "file_extension": ".py",
   "mimetype": "text/x-python",
   "name": "python",
   "nbconvert_exporter": "python",
   "pygments_lexer": "ipython3",
   "version": "3.11.1"
  }
 },
 "nbformat": 4,
 "nbformat_minor": 5
}
