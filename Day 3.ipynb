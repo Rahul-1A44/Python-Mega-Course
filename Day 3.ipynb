{
 "cells": [
  {
   "cell_type": "markdown",
   "id": "c2e5e918",
   "metadata": {},
   "source": [
    "# Operators"
   ]
  },
  {
   "cell_type": "markdown",
   "id": "7fa3ccbf",
   "metadata": {},
   "source": [
    "Arithmetic operator"
   ]
  },
  {
   "cell_type": "code",
   "execution_count": 21,
   "id": "7d2c8839",
   "metadata": {
    "scrolled": true
   },
   "outputs": [
    {
     "name": "stdout",
     "output_type": "stream",
     "text": [
      "Enter the first number 5\n",
      "Enter the second number 4\n"
     ]
    }
   ],
   "source": [
    "r= float(input('Enter the first number '))\n",
    "s=float(input('Enter the second number '))"
   ]
  },
  {
   "cell_type": "code",
   "execution_count": 22,
   "id": "ff9d1587",
   "metadata": {},
   "outputs": [],
   "source": [
    "add=r+s\n",
    "sub=r-s\n",
    "mul=r*s\n",
    "div1=r/s\n",
    "div2=r//s\n",
    "exp=r**s\n",
    "modulus=r%s"
   ]
  },
  {
   "cell_type": "code",
   "execution_count": 23,
   "id": "0a3cebfb",
   "metadata": {},
   "outputs": [
    {
     "data": {
      "text/plain": [
       "9.0"
      ]
     },
     "execution_count": 23,
     "metadata": {},
     "output_type": "execute_result"
    }
   ],
   "source": [
    "add"
   ]
  },
  {
   "cell_type": "code",
   "execution_count": 24,
   "id": "b326311e",
   "metadata": {},
   "outputs": [
    {
     "data": {
      "text/plain": [
       "1.0"
      ]
     },
     "execution_count": 24,
     "metadata": {},
     "output_type": "execute_result"
    }
   ],
   "source": [
    "sub"
   ]
  },
  {
   "cell_type": "code",
   "execution_count": 25,
   "id": "ce2e7933",
   "metadata": {},
   "outputs": [
    {
     "data": {
      "text/plain": [
       "20.0"
      ]
     },
     "execution_count": 25,
     "metadata": {},
     "output_type": "execute_result"
    }
   ],
   "source": [
    "mul\n",
    "\n"
   ]
  },
  {
   "cell_type": "code",
   "execution_count": 26,
   "id": "9421f240",
   "metadata": {},
   "outputs": [
    {
     "data": {
      "text/plain": [
       "1.25"
      ]
     },
     "execution_count": 26,
     "metadata": {},
     "output_type": "execute_result"
    }
   ],
   "source": [
    "div1"
   ]
  },
  {
   "cell_type": "code",
   "execution_count": 27,
   "id": "e5620187",
   "metadata": {},
   "outputs": [
    {
     "data": {
      "text/plain": [
       "1.0"
      ]
     },
     "execution_count": 27,
     "metadata": {},
     "output_type": "execute_result"
    }
   ],
   "source": [
    "div2"
   ]
  },
  {
   "cell_type": "code",
   "execution_count": 28,
   "id": "00359fae",
   "metadata": {},
   "outputs": [
    {
     "data": {
      "text/plain": [
       "625.0"
      ]
     },
     "execution_count": 28,
     "metadata": {},
     "output_type": "execute_result"
    }
   ],
   "source": [
    "exp\n"
   ]
  },
  {
   "cell_type": "code",
   "execution_count": 29,
   "id": "4ddfeee4",
   "metadata": {},
   "outputs": [
    {
     "data": {
      "text/plain": [
       "1.0"
      ]
     },
     "execution_count": 29,
     "metadata": {},
     "output_type": "execute_result"
    }
   ],
   "source": [
    "modulus"
   ]
  },
  {
   "cell_type": "markdown",
   "id": "6ab174f0",
   "metadata": {},
   "source": [
    "Assignment Operator"
   ]
  },
  {
   "cell_type": "code",
   "execution_count": 32,
   "id": "9d90f93d",
   "metadata": {},
   "outputs": [
    {
     "name": "stdout",
     "output_type": "stream",
     "text": [
      "Enter the first number 5\n"
     ]
    }
   ],
   "source": [
    "r= float(input('Enter the first number '))"
   ]
  },
  {
   "cell_type": "code",
   "execution_count": 33,
   "id": "d4a95534",
   "metadata": {},
   "outputs": [],
   "source": [
    "r+=8\n"
   ]
  },
  {
   "cell_type": "code",
   "execution_count": 34,
   "id": "1d258179",
   "metadata": {},
   "outputs": [
    {
     "data": {
      "text/plain": [
       "13.0"
      ]
     },
     "execution_count": 34,
     "metadata": {},
     "output_type": "execute_result"
    }
   ],
   "source": [
    "r"
   ]
  },
  {
   "cell_type": "code",
   "execution_count": 35,
   "id": "be017a8b",
   "metadata": {},
   "outputs": [],
   "source": [
    "r-=4"
   ]
  },
  {
   "cell_type": "code",
   "execution_count": 36,
   "id": "33b41679",
   "metadata": {},
   "outputs": [
    {
     "data": {
      "text/plain": [
       "9.0"
      ]
     },
     "execution_count": 36,
     "metadata": {},
     "output_type": "execute_result"
    }
   ],
   "source": [
    "r"
   ]
  },
  {
   "cell_type": "code",
   "execution_count": 39,
   "id": "422870a1",
   "metadata": {},
   "outputs": [],
   "source": [
    "r*=5"
   ]
  },
  {
   "cell_type": "code",
   "execution_count": 40,
   "id": "b16591b7",
   "metadata": {},
   "outputs": [],
   "source": [
    "r/=5"
   ]
  },
  {
   "cell_type": "code",
   "execution_count": 41,
   "id": "d24268e0",
   "metadata": {},
   "outputs": [
    {
     "data": {
      "text/plain": [
       "5.0"
      ]
     },
     "execution_count": 41,
     "metadata": {},
     "output_type": "execute_result"
    }
   ],
   "source": [
    "r"
   ]
  },
  {
   "cell_type": "code",
   "execution_count": 42,
   "id": "8fa7c6cf",
   "metadata": {},
   "outputs": [],
   "source": [
    "r%=5"
   ]
  },
  {
   "cell_type": "code",
   "execution_count": 43,
   "id": "901d48fa",
   "metadata": {},
   "outputs": [
    {
     "data": {
      "text/plain": [
       "0.0"
      ]
     },
     "execution_count": 43,
     "metadata": {},
     "output_type": "execute_result"
    }
   ],
   "source": [
    "r"
   ]
  },
  {
   "cell_type": "code",
   "execution_count": 44,
   "id": "550c5338",
   "metadata": {},
   "outputs": [],
   "source": [
    "r**=5"
   ]
  },
  {
   "cell_type": "code",
   "execution_count": 45,
   "id": "0c054e60",
   "metadata": {},
   "outputs": [
    {
     "data": {
      "text/plain": [
       "0.0"
      ]
     },
     "execution_count": 45,
     "metadata": {},
     "output_type": "execute_result"
    }
   ],
   "source": [
    "r"
   ]
  },
  {
   "cell_type": "markdown",
   "id": "e6dbf69a",
   "metadata": {},
   "source": [
    "Comparison Operator"
   ]
  },
  {
   "cell_type": "code",
   "execution_count": 46,
   "id": "67bd7c8c",
   "metadata": {},
   "outputs": [
    {
     "name": "stdout",
     "output_type": "stream",
     "text": [
      "Enter the first number 5\n",
      "Enter the second number 2\n"
     ]
    }
   ],
   "source": [
    "r= float(input('Enter the first number '))\n",
    "s=float(input('Enter the second number '))"
   ]
  },
  {
   "cell_type": "code",
   "execution_count": 55,
   "id": "39cbea53",
   "metadata": {},
   "outputs": [
    {
     "data": {
      "text/plain": [
       "False"
      ]
     },
     "execution_count": 55,
     "metadata": {},
     "output_type": "execute_result"
    }
   ],
   "source": [
    "r==s #equal to"
   ]
  },
  {
   "cell_type": "code",
   "execution_count": 56,
   "id": "9837e2a6",
   "metadata": {},
   "outputs": [
    {
     "data": {
      "text/plain": [
       "True"
      ]
     },
     "execution_count": 56,
     "metadata": {},
     "output_type": "execute_result"
    }
   ],
   "source": [
    "r>s #greater than"
   ]
  },
  {
   "cell_type": "code",
   "execution_count": 57,
   "id": "49bbca77",
   "metadata": {},
   "outputs": [
    {
     "data": {
      "text/plain": [
       "False"
      ]
     },
     "execution_count": 57,
     "metadata": {},
     "output_type": "execute_result"
    }
   ],
   "source": [
    "r<s #less than"
   ]
  },
  {
   "cell_type": "code",
   "execution_count": 59,
   "id": "7730a871",
   "metadata": {},
   "outputs": [
    {
     "data": {
      "text/plain": [
       "False"
      ]
     },
     "execution_count": 59,
     "metadata": {},
     "output_type": "execute_result"
    }
   ],
   "source": [
    "r<=s #less equal to"
   ]
  },
  {
   "cell_type": "code",
   "execution_count": 60,
   "id": "8e7c8814",
   "metadata": {},
   "outputs": [
    {
     "data": {
      "text/plain": [
       "True"
      ]
     },
     "execution_count": 60,
     "metadata": {},
     "output_type": "execute_result"
    }
   ],
   "source": [
    "r>=s #graeter euual to"
   ]
  },
  {
   "cell_type": "code",
   "execution_count": 61,
   "id": "14727549",
   "metadata": {},
   "outputs": [
    {
     "data": {
      "text/plain": [
       "True"
      ]
     },
     "execution_count": 61,
     "metadata": {},
     "output_type": "execute_result"
    }
   ],
   "source": [
    "r!=s #not equal to"
   ]
  },
  {
   "cell_type": "markdown",
   "id": "efab1666",
   "metadata": {},
   "source": [
    "Logical Operator"
   ]
  },
  {
   "cell_type": "code",
   "execution_count": 65,
   "id": "54b84ac4",
   "metadata": {},
   "outputs": [
    {
     "data": {
      "text/plain": [
       "True"
      ]
     },
     "execution_count": 65,
     "metadata": {},
     "output_type": "execute_result"
    }
   ],
   "source": [
    "3<4 and 1>0 #and Operator"
   ]
  },
  {
   "cell_type": "code",
   "execution_count": 67,
   "id": "933cf155",
   "metadata": {},
   "outputs": [
    {
     "data": {
      "text/plain": [
       "True"
      ]
     },
     "execution_count": 67,
     "metadata": {},
     "output_type": "execute_result"
    }
   ],
   "source": [
    "r>10 or s>1 #OR Operator"
   ]
  },
  {
   "cell_type": "code",
   "execution_count": 68,
   "id": "a38f39c7",
   "metadata": {},
   "outputs": [
    {
     "data": {
      "text/plain": [
       "True"
      ]
     },
     "execution_count": 68,
     "metadata": {},
     "output_type": "execute_result"
    }
   ],
   "source": [
    "not(2<3 and 1<0)"
   ]
  },
  {
   "cell_type": "markdown",
   "id": "c46b0b92",
   "metadata": {},
   "source": [
    "# DATA TYPES"
   ]
  },
  {
   "cell_type": "code",
   "execution_count": 87,
   "id": "4ab3c62c",
   "metadata": {},
   "outputs": [],
   "source": [
    "x ='I am python developer '"
   ]
  },
  {
   "cell_type": "code",
   "execution_count": 88,
   "id": "dc8cef82",
   "metadata": {},
   "outputs": [
    {
     "data": {
      "text/plain": [
       "22"
      ]
     },
     "execution_count": 88,
     "metadata": {},
     "output_type": "execute_result"
    }
   ],
   "source": [
    "len(x) # for counting string/ alplabate and show its total"
   ]
  },
  {
   "cell_type": "code",
   "execution_count": 89,
   "id": "4ec22267",
   "metadata": {},
   "outputs": [
    {
     "data": {
      "text/plain": [
       "'p'"
      ]
     },
     "execution_count": 89,
     "metadata": {},
     "output_type": "execute_result"
    }
   ],
   "source": [
    "x[5] #indexing the words"
   ]
  },
  {
   "cell_type": "code",
   "execution_count": 91,
   "id": "b3dae635",
   "metadata": {},
   "outputs": [
    {
     "data": {
      "text/plain": [
       "'developer '"
      ]
     },
     "execution_count": 91,
     "metadata": {},
     "output_type": "execute_result"
    }
   ],
   "source": [
    "x[12:23] #(count no upto word:last totalword+1)"
   ]
  },
  {
   "cell_type": "code",
   "execution_count": 92,
   "id": "bd6fb200",
   "metadata": {},
   "outputs": [
    {
     "data": {
      "text/plain": [
       "' developer '"
      ]
     },
     "execution_count": 92,
     "metadata": {},
     "output_type": "execute_result"
    }
   ],
   "source": [
    "x[11::] # Print all words after 11 words"
   ]
  },
  {
   "cell_type": "code",
   "execution_count": 93,
   "id": "ac8bb751",
   "metadata": {},
   "outputs": [
    {
     "data": {
      "text/plain": [
       "'o'"
      ]
     },
     "execution_count": 93,
     "metadata": {},
     "output_type": "execute_result"
    }
   ],
   "source": [
    "x[-5] #for reverse count"
   ]
  },
  {
   "cell_type": "code",
   "execution_count": 94,
   "id": "bac94828",
   "metadata": {},
   "outputs": [
    {
     "data": {
      "text/plain": [
       "' developer'"
      ]
     },
     "execution_count": 94,
     "metadata": {},
     "output_type": "execute_result"
    }
   ],
   "source": [
    "x[-11:-1]"
   ]
  },
  {
   "cell_type": "code",
   "execution_count": 95,
   "id": "9e4dc744",
   "metadata": {},
   "outputs": [
    {
     "data": {
      "text/plain": [
       "'ved nohtyp ma I'"
      ]
     },
     "execution_count": 95,
     "metadata": {},
     "output_type": "execute_result"
    }
   ],
   "source": [
    "x[-8::-1] # reverse the words from -8 to -1"
   ]
  },
  {
   "cell_type": "code",
   "execution_count": 103,
   "id": "73edc518",
   "metadata": {},
   "outputs": [
    {
     "data": {
      "text/plain": [
       "'veloper '"
      ]
     },
     "execution_count": 103,
     "metadata": {},
     "output_type": "execute_result"
    }
   ],
   "source": [
    "x[-8::]"
   ]
  },
  {
   "cell_type": "code",
   "execution_count": 98,
   "id": "ce1bcbc8",
   "metadata": {},
   "outputs": [
    {
     "data": {
      "text/plain": [
       "'h'"
      ]
     },
     "execution_count": 98,
     "metadata": {},
     "output_type": "execute_result"
    }
   ],
   "source": [
    "x[8]"
   ]
  },
  {
   "cell_type": "code",
   "execution_count": 104,
   "id": "e64e6791",
   "metadata": {},
   "outputs": [
    {
     "data": {
      "text/plain": [
       "' repoleved nohtyp ma I'"
      ]
     },
     "execution_count": 104,
     "metadata": {},
     "output_type": "execute_result"
    }
   ],
   "source": [
    "x[::-1]"
   ]
  },
  {
   "cell_type": "code",
   "execution_count": 107,
   "id": "02720c12",
   "metadata": {},
   "outputs": [],
   "source": [
    "y=x.split() #it helps to split or seperate the word"
   ]
  },
  {
   "cell_type": "code",
   "execution_count": 108,
   "id": "b100f703",
   "metadata": {},
   "outputs": [
    {
     "data": {
      "text/plain": [
       "['I', 'am', 'python', 'developer']"
      ]
     },
     "execution_count": 108,
     "metadata": {},
     "output_type": "execute_result"
    }
   ],
   "source": [
    "y"
   ]
  },
  {
   "cell_type": "code",
   "execution_count": 111,
   "id": "f4b1ea0c",
   "metadata": {},
   "outputs": [],
   "source": [
    "a= 'I/am/pyhton/developer'"
   ]
  },
  {
   "cell_type": "code",
   "execution_count": 117,
   "id": "0eb24ab5",
   "metadata": {},
   "outputs": [],
   "source": [
    "b=a.split('/') #use the sign which is use in the sentence such as('/') to seperate the word."
   ]
  },
  {
   "cell_type": "code",
   "execution_count": 119,
   "id": "542e86ed",
   "metadata": {},
   "outputs": [
    {
     "data": {
      "text/plain": [
       "['I', 'am', 'pyhton', 'developer']"
      ]
     },
     "execution_count": 119,
     "metadata": {},
     "output_type": "execute_result"
    }
   ],
   "source": [
    "b"
   ]
  },
  {
   "cell_type": "code",
   "execution_count": 120,
   "id": "8f56097f",
   "metadata": {},
   "outputs": [],
   "source": [
    "str1='i am rahul'"
   ]
  },
  {
   "cell_type": "code",
   "execution_count": 124,
   "id": "9c6ec33c",
   "metadata": {},
   "outputs": [
    {
     "data": {
      "text/plain": [
       "'I am rahul'"
      ]
     },
     "execution_count": 124,
     "metadata": {},
     "output_type": "execute_result"
    }
   ],
   "source": [
    "str1.capitalize() #It helps to capital the first word"
   ]
  },
  {
   "cell_type": "code",
   "execution_count": 126,
   "id": "571d40a4",
   "metadata": {},
   "outputs": [
    {
     "data": {
      "text/plain": [
       "'i am python developer '"
      ]
     },
     "execution_count": 126,
     "metadata": {},
     "output_type": "execute_result"
    }
   ],
   "source": [
    "x.casefold() # It helps to change first word capital to small"
   ]
  },
  {
   "cell_type": "code",
   "execution_count": 129,
   "id": "6f44fe4f",
   "metadata": {},
   "outputs": [
    {
     "data": {
      "text/plain": [
       "'  I am python developer  '"
      ]
     },
     "execution_count": 129,
     "metadata": {},
     "output_type": "execute_result"
    }
   ],
   "source": [
    "x.center(25) # it helps to take to increase in space"
   ]
  },
  {
   "cell_type": "code",
   "execution_count": 134,
   "id": "18f920e5",
   "metadata": {},
   "outputs": [
    {
     "data": {
      "text/plain": [
       "2"
      ]
     },
     "execution_count": 134,
     "metadata": {},
     "output_type": "execute_result"
    }
   ],
   "source": [
    "x.count('p') # it helps to count the word position"
   ]
  },
  {
   "cell_type": "code",
   "execution_count": 135,
   "id": "82e89f28",
   "metadata": {},
   "outputs": [
    {
     "data": {
      "text/plain": [
       "b'I am python developer '"
      ]
     },
     "execution_count": 135,
     "metadata": {},
     "output_type": "execute_result"
    }
   ],
   "source": [
    "x.encode() "
   ]
  },
  {
   "cell_type": "code",
   "execution_count": 142,
   "id": "1d9f9df4",
   "metadata": {},
   "outputs": [
    {
     "data": {
      "text/plain": [
       "False"
      ]
     },
     "execution_count": 142,
     "metadata": {},
     "output_type": "execute_result"
    }
   ],
   "source": [
    "x.endswith('p') #it helps to show the word truely end the sentence or not"
   ]
  },
  {
   "cell_type": "code",
   "execution_count": 143,
   "id": "e96a156f",
   "metadata": {},
   "outputs": [
    {
     "data": {
      "text/plain": [
       "'I am python developer '"
      ]
     },
     "execution_count": 143,
     "metadata": {},
     "output_type": "execute_result"
    }
   ],
   "source": [
    "x.expandtabs() # it helps to expand tyeb "
   ]
  },
  {
   "cell_type": "code",
   "execution_count": null,
   "id": "e4899e96",
   "metadata": {},
   "outputs": [],
   "source": []
  }
 ],
 "metadata": {
  "kernelspec": {
   "display_name": "Python 3 (ipykernel)",
   "language": "python",
   "name": "python3"
  },
  "language_info": {
   "codemirror_mode": {
    "name": "ipython",
    "version": 3
   },
   "file_extension": ".py",
   "mimetype": "text/x-python",
   "name": "python",
   "nbconvert_exporter": "python",
   "pygments_lexer": "ipython3",
   "version": "3.11.1"
  }
 },
 "nbformat": 4,
 "nbformat_minor": 5
}
