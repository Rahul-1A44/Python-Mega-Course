{
 "cells": [
  {
   "cell_type": "code",
   "execution_count": 1,
   "id": "14fa0a2f",
   "metadata": {},
   "outputs": [],
   "source": [
    "x='rahul'"
   ]
  },
  {
   "cell_type": "code",
   "execution_count": 2,
   "id": "0f864f9b",
   "metadata": {},
   "outputs": [],
   "source": [
    "y='purbas'"
   ]
  },
  {
   "cell_type": "code",
   "execution_count": 3,
   "id": "7cca9c90",
   "metadata": {},
   "outputs": [],
   "source": [
    "z=x+y"
   ]
  },
  {
   "cell_type": "code",
   "execution_count": 4,
   "id": "8ee87ea4",
   "metadata": {},
   "outputs": [
    {
     "name": "stdout",
     "output_type": "stream",
     "text": [
      "rahulpurbas\n"
     ]
    }
   ],
   "source": [
    "print(z)"
   ]
  },
  {
   "cell_type": "code",
   "execution_count": 8,
   "id": "4e5374ac",
   "metadata": {},
   "outputs": [
    {
     "name": "stdout",
     "output_type": "stream",
     "text": [
      "Enter Your First Name : Rahul\n",
      "Enter Your Last Name : Gupta\n"
     ]
    }
   ],
   "source": [
    "ram=input('Enter Your First Name : ')\n",
    "gita=input('Enter Your Last Name : ')"
   ]
  },
  {
   "cell_type": "code",
   "execution_count": 9,
   "id": "a6ba6694",
   "metadata": {},
   "outputs": [
    {
     "name": "stdout",
     "output_type": "stream",
     "text": [
      "your name is Rahul Gupta\n"
     ]
    }
   ],
   "source": [
    "print('your name is '+ram+' ' +gita)"
   ]
  },
  {
   "cell_type": "code",
   "execution_count": 12,
   "id": "153d67de",
   "metadata": {},
   "outputs": [
    {
     "name": "stdout",
     "output_type": "stream",
     "text": [
      "Enter first number:88\n"
     ]
    }
   ],
   "source": [
    "num1=int(input('Enter first number:'))"
   ]
  },
  {
   "cell_type": "code",
   "execution_count": 14,
   "id": "031520c1",
   "metadata": {},
   "outputs": [
    {
     "name": "stdout",
     "output_type": "stream",
     "text": [
      "Enter second number:75\n"
     ]
    }
   ],
   "source": [
    "num2=int(input('Enter second number:'))"
   ]
  },
  {
   "cell_type": "code",
   "execution_count": 15,
   "id": "441e75ed",
   "metadata": {},
   "outputs": [],
   "source": [
    "sum1=num1+num2"
   ]
  },
  {
   "cell_type": "code",
   "execution_count": 16,
   "id": "e4ecefb4",
   "metadata": {},
   "outputs": [
    {
     "data": {
      "text/plain": [
       "163"
      ]
     },
     "execution_count": 16,
     "metadata": {},
     "output_type": "execute_result"
    }
   ],
   "source": [
    "sum1"
   ]
  },
  {
   "cell_type": "code",
   "execution_count": 17,
   "id": "7ad0ebe0",
   "metadata": {},
   "outputs": [
    {
     "name": "stdout",
     "output_type": "stream",
     "text": [
      "Enter first number:4.12\n"
     ]
    }
   ],
   "source": [
    "num3=float(input('Enter first number:'))"
   ]
  },
  {
   "cell_type": "code",
   "execution_count": 18,
   "id": "08d5ec41",
   "metadata": {},
   "outputs": [
    {
     "name": "stdout",
     "output_type": "stream",
     "text": [
      "Enter second number:5.23\n"
     ]
    }
   ],
   "source": [
    "num4=float(input('Enter second number:'))"
   ]
  },
  {
   "cell_type": "code",
   "execution_count": 19,
   "id": "39941d5d",
   "metadata": {},
   "outputs": [],
   "source": [
    "diff=num3-num4"
   ]
  },
  {
   "cell_type": "code",
   "execution_count": 20,
   "id": "76d07ff0",
   "metadata": {},
   "outputs": [
    {
     "data": {
      "text/plain": [
       "-1.1100000000000003"
      ]
     },
     "execution_count": 20,
     "metadata": {},
     "output_type": "execute_result"
    }
   ],
   "source": [
    "diff"
   ]
  },
  {
   "cell_type": "code",
   "execution_count": 21,
   "id": "2dfcc126",
   "metadata": {},
   "outputs": [
    {
     "name": "stdout",
     "output_type": "stream",
     "text": [
      "Enter first number:25695.255\n"
     ]
    }
   ],
   "source": [
    "num5=float(input('Enter first number:'))"
   ]
  },
  {
   "cell_type": "code",
   "execution_count": 22,
   "id": "b8a44117",
   "metadata": {},
   "outputs": [
    {
     "name": "stdout",
     "output_type": "stream",
     "text": [
      "Enter first number:8896\n"
     ]
    }
   ],
   "source": [
    "num6=int(input('Enter first number:'))"
   ]
  },
  {
   "cell_type": "code",
   "execution_count": 25,
   "id": "44f88596",
   "metadata": {},
   "outputs": [],
   "source": [
    "mul=num5*num6"
   ]
  },
  {
   "cell_type": "code",
   "execution_count": 26,
   "id": "f8cc6ec8",
   "metadata": {},
   "outputs": [
    {
     "data": {
      "text/plain": [
       "228584988.48000002"
      ]
     },
     "execution_count": 26,
     "metadata": {},
     "output_type": "execute_result"
    }
   ],
   "source": [
    "mul"
   ]
  },
  {
   "cell_type": "code",
   "execution_count": 30,
   "id": "ea45dae6",
   "metadata": {},
   "outputs": [
    {
     "name": "stdout",
     "output_type": "stream",
     "text": [
      "The Multiplication is 228584988.48000002\n"
     ]
    }
   ],
   "source": [
    "print( 'The Multiplication is' ,mul )"
   ]
  },
  {
   "cell_type": "code",
   "execution_count": null,
   "id": "2e5f138f",
   "metadata": {},
   "outputs": [],
   "source": []
  }
 ],
 "metadata": {
  "kernelspec": {
   "display_name": "Python 3 (ipykernel)",
   "language": "python",
   "name": "python3"
  },
  "language_info": {
   "codemirror_mode": {
    "name": "ipython",
    "version": 3
   },
   "file_extension": ".py",
   "mimetype": "text/x-python",
   "name": "python",
   "nbconvert_exporter": "python",
   "pygments_lexer": "ipython3",
   "version": "3.11.1"
  }
 },
 "nbformat": 4,
 "nbformat_minor": 5
}
